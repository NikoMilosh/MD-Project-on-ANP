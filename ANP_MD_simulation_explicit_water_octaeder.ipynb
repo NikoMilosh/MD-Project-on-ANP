{
 "cells": [
  {
   "cell_type": "code",
   "execution_count": 10,
   "id": "392c8032",
   "metadata": {
    "ExecuteTime": {
     "end_time": "2023-01-31T11:06:30.917992Z",
     "start_time": "2023-01-31T11:06:30.909911Z"
    }
   },
   "outputs": [],
   "source": [
    "import numpy as np\n",
    "import mdtraj as md\n",
    "from openmm import app\n",
    "import openmm as mm\n",
    "from openmm import unit as u\n",
    "import pdbfixer\n",
    "from sys import stdout"
   ]
  },
  {
   "cell_type": "code",
   "execution_count": 11,
   "id": "1bb8fb91",
   "metadata": {
    "ExecuteTime": {
     "end_time": "2023-01-31T11:06:31.339802Z",
     "start_time": "2023-01-31T11:06:31.327245Z"
    }
   },
   "outputs": [],
   "source": [
    "# peptide = md.load('data/peptide_fixed.pdb')\n",
    "# peptide_top = peptide.top\n",
    "# selection_petide = peptide_top.select(\"symbol != H\")\n",
    "# new_petide = peptide.atom_slice(selection_petide)\n",
    "# new_petide.save('data/petide_fixed_no_H.pdb')"
   ]
  },
  {
   "cell_type": "code",
   "execution_count": 12,
   "id": "8797d51a",
   "metadata": {
    "ExecuteTime": {
     "end_time": "2023-01-31T11:06:31.750805Z",
     "start_time": "2023-01-31T11:06:31.737691Z"
    }
   },
   "outputs": [],
   "source": [
    "STRIDE_water = 1000\n",
    "STRIDE_no_water = 1000 \n",
    "STRIDE_checkpoint = 10000\n",
    "simulations_steps = 10000 \n",
    "real_time_STRIDE = 1000\n",
    "\n",
    "geometry = 'truncatedOctahedron'\n",
    "geompadding = 2*1.2*u.nanometer\n",
    "\n",
    "platform_name = 'CPU'#'OpenCL' \n",
    "\n",
    "temperature = 300 * u.kelvin#paper\n",
    "friction_coeff = 1.0/u.picoseconds\n",
    "time_step = 2.0*u.femtoseconds \n",
    "pressure = 1 * u.bar #paper"
   ]
  },
  {
   "cell_type": "code",
   "execution_count": 13,
   "id": "cafcd46e",
   "metadata": {
    "ExecuteTime": {
     "end_time": "2023-01-31T11:06:32.322630Z",
     "start_time": "2023-01-31T11:06:32.222098Z"
    }
   },
   "outputs": [],
   "source": [
    "# Loading the file into the notebook.\n",
    "pdb_file = 'data/peptide_fixed.pdb'#pdb databank\n",
    "fixer = pdbfixer.PDBFixer(pdb_file)"
   ]
  },
  {
   "cell_type": "code",
   "execution_count": 14,
   "id": "5242f750",
   "metadata": {
    "ExecuteTime": {
     "end_time": "2023-01-31T11:06:32.810374Z",
     "start_time": "2023-01-31T11:06:32.781534Z"
    }
   },
   "outputs": [],
   "source": [
    "#https://github.com/openmm/openmm-setup/blob/931bddaf9fa185e44c79af2c638c22eed3cbe7d4/openmmsetup/openmmsetup.py#L251-L256\n",
    "maxSize = max(max((pos[i] for pos in fixer.positions))-min((pos[i] for pos in fixer.positions)) for i in range(3))"
   ]
  },
  {
   "cell_type": "code",
   "execution_count": 15,
   "id": "5f222c32",
   "metadata": {
    "ExecuteTime": {
     "end_time": "2023-01-31T11:06:33.253332Z",
     "start_time": "2023-01-31T11:06:33.240421Z"
    }
   },
   "outputs": [],
   "source": [
    "#https://github.com/openmm/openmm/issues/2745\n",
    "if geometry == 'truncatedOctahedron':\n",
    "    vectors = mm.Vec3(1,0,0), mm.Vec3(1/3,2*np.sqrt(2)/3,0), mm.Vec3(-1/3,np.sqrt(2)/3,np.sqrt(6)/3)\n",
    "    v_box = [(maxSize+geompadding)*v for v in vectors]\n",
    "elif geometry == 'rhombicDodecahedron':\n",
    "    vectors = mm.Vec3(1,0,0), mm.Vec3(0,1,0), mm.Vec3(0.5,0.5,np.sqrt(2)/2)\n",
    "    v_box = [(maxSize+geompadding)*v for v in vectors]"
   ]
  },
  {
   "cell_type": "code",
   "execution_count": 16,
   "id": "2743c37e",
   "metadata": {
    "ExecuteTime": {
     "end_time": "2023-01-31T11:08:26.217855Z",
     "start_time": "2023-01-31T11:06:33.826592Z"
    }
   },
   "outputs": [
    {
     "name": "stdout",
     "output_type": "stream",
     "text": [
      "#\"Step\",\"Potential Energy (kJ/mole)\",\"Temperature (K)\",\"Speed (ns/day)\",\"Elapsed Time (s)\"\n",
      "1000,-135634.05812756982,259.53515040283173,--,0.0\n",
      "2000,-132369.42201485412,287.0160807897519,18,9.611845254898071\n",
      "3000,-132119.18474477256,293.87831577004886,18,19.21307682991028\n",
      "4000,-131568.79660797637,303.3500412794067,17.9,28.97549033164978\n",
      "5000,-130724.76021763135,298.72508208889644,17.9,38.714417934417725\n",
      "6000,-131385.88916563877,299.0678121136219,17.8,48.6133451461792\n",
      "7000,-131422.02269812327,298.809505210189,17.8,58.24039101600647\n",
      "8000,-130813.67621996604,295.95949405002773,17.8,68.00791120529175\n",
      "9000,-131112.4951549601,298.71963805183145,17.8,77.68929290771484\n",
      "10000,-131202.6923771218,297.6344319421661,17.8,87.17653179168701\n"
     ]
    }
   ],
   "source": [
    "# Defining the forcfield and the model\n",
    "forcefield = app.ForceField('amber14/protein.ff14SB.xml', 'amber14/tip3pfb.xml')\n",
    "model = app.Modeller(fixer.topology, fixer.positions)\n",
    "model.addSolvent(forcefield,\n",
    "             boxVectors=v_box,\n",
    "             model='tip3p', \n",
    "             ionicStrength=0.1 * u.millimolar, \n",
    "             positiveIon='Na+',\n",
    "             negativeIon='Cl-',\n",
    "             neutralize=True )\n",
    "\n",
    "app.PDBFile.writeFile(model.topology,model.positions, open('data/peptide_model_water.pdb', 'w'))\n",
    "\n",
    "petide_in_water = md.load('data/peptide_model_water.pdb')\n",
    "petide_in_water_top = petide_in_water.top\n",
    "selection_petide = petide_in_water_top.select('protein')\n",
    "\n",
    "system = forcefield.createSystem(model.topology, \n",
    "                                 nonbondedMethod=app.PME, \n",
    "                                 nonbondedCutoff=1.2*u.nanometers,#paper \n",
    "                                 constraints=app.HBonds, \n",
    "                                 rigidWater=True, \n",
    "                                 ewaldErrorTolerance=0.0005)\n",
    "\n",
    "system.addForce(mm.MonteCarloBarostat(pressure, temperature))#paper\n",
    "\n",
    "integrator = mm.LangevinIntegrator(temperature,\n",
    "                                   friction_coeff,\n",
    "                                   time_step)\n",
    "integrator.setConstraintTolerance(0.00001)\n",
    "\n",
    "platform = mm.Platform.getPlatformByName(platform_name)\n",
    "simulation = app.Simulation(model.topology, system, integrator, platform)\n",
    "simulation.context.setPositions(model.positions)\n",
    "simulation.context.setPeriodicBoxVectors(*v_box)\n",
    "\n",
    "simulation.minimizeEnergy()\n",
    "\n",
    "simulation.reporters.append(mm.app.dcdreporter.DCDReporter('data/output_water.dcd',\n",
    "                                                           STRIDE_water))\n",
    "simulation.reporters.append(mm.app.statedatareporter.StateDataReporter('data/mm.log', \n",
    "                                                                       STRIDE_no_water, \n",
    "                                                                       step=True, \n",
    "                                                                       potentialEnergy=True, \n",
    "                                                                       temperature=True, \n",
    "                                                                       time=True))\n",
    "simulation.reporters.append(mm.app.statedatareporter.StateDataReporter(stdout,\n",
    "                                                                       real_time_STRIDE, \n",
    "                                                                       step=True, \n",
    "                                                                       potentialEnergy=True, \n",
    "                                                                       temperature=True, \n",
    "                                                                       speed=True, \n",
    "                                                                       elapsedTime=True))\n",
    "simulation.reporters.append(md.reporters.DCDReporter('data/output_no_water.dcd',\n",
    "                                                     STRIDE_no_water, \n",
    "                                                     atomSubset=selection_petide))\n",
    "simulation.reporters.append(mm.app.checkpointreporter.CheckpointReporter('data/checkpoint.chk',\n",
    "                            STRIDE_checkpoint))\n",
    "\n",
    "\n",
    "simulation.step(simulations_steps)"
   ]
  },
  {
   "cell_type": "code",
   "execution_count": null,
   "id": "26b911be",
   "metadata": {},
   "outputs": [],
   "source": []
  }
 ],
 "metadata": {
  "kernelspec": {
   "display_name": "Python 3 (ipykernel)",
   "language": "python",
   "name": "python3"
  },
  "language_info": {
   "codemirror_mode": {
    "name": "ipython",
    "version": 3
   },
   "file_extension": ".py",
   "mimetype": "text/x-python",
   "name": "python",
   "nbconvert_exporter": "python",
   "pygments_lexer": "ipython3",
   "version": "3.9.12"
  }
 },
 "nbformat": 4,
 "nbformat_minor": 5
}
