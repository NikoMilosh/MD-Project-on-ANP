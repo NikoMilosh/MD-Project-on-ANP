{
  "cells": [
    {
      "cell_type": "code",
      "execution_count": 1,
      "metadata": {
        "colab": {
          "base_uri": "https://localhost:8080/"
        },
        "id": "8EkixVjkifA7",
        "outputId": "b7d69b97-91f9-4643-c89d-ceefcb0f1493"
      },
      "outputs": [
        {
          "name": "stdout",
          "output_type": "stream",
          "text": [
            "⏬ Downloading https://github.com/jaimergp/miniforge/releases/latest/download/Mambaforge-colab-Linux-x86_64.sh...\n",
            "📦 Installing...\n",
            "📌 Adjusting configuration...\n",
            "🩹 Patching environment...\n",
            "⏲ Done in 0:00:17\n",
            "🔁 Restarting kernel...\n"
          ]
        }
      ],
      "source": [
        "!pip install -q condacolab\n",
        "import condacolab\n",
        "condacolab.install()"
      ]
    },
    {
      "cell_type": "code",
      "execution_count": 1,
      "metadata": {
        "colab": {
          "base_uri": "https://localhost:8080/"
        },
        "id": "qzeoBc93iqws",
        "outputId": "0642ced2-256d-4689-a292-b902b031746d"
      },
      "outputs": [
        {
          "name": "stdout",
          "output_type": "stream",
          "text": [
            "✨🍰✨ Everything looks OK!\n"
          ]
        }
      ],
      "source": [
        "import condacolab\n",
        "condacolab.check()"
      ]
    },
    {
      "cell_type": "code",
      "execution_count": 2,
      "metadata": {
        "colab": {
          "base_uri": "https://localhost:8080/"
        },
        "id": "tiu_l0d6ivjK",
        "outputId": "44263200-4204-44ed-904d-9c43b6fbb242"
      },
      "outputs": [
        {
          "name": "stdout",
          "output_type": "stream",
          "text": [
            "\n",
            "                  __    __    __    __\n",
            "                 /  \\  /  \\  /  \\  /  \\\n",
            "                /    \\/    \\/    \\/    \\\n",
            "███████████████/  /██/  /██/  /██/  /████████████████████████\n",
            "              /  / \\   / \\   / \\   / \\  \\____\n",
            "             /  /   \\_/   \\_/   \\_/   \\    o \\__,\n",
            "            / _/                       \\_____/  `\n",
            "            |/\n",
            "        ███╗   ███╗ █████╗ ███╗   ███╗██████╗  █████╗\n",
            "        ████╗ ████║██╔══██╗████╗ ████║██╔══██╗██╔══██╗\n",
            "        ██╔████╔██║███████║██╔████╔██║██████╔╝███████║\n",
            "        ██║╚██╔╝██║██╔══██║██║╚██╔╝██║██╔══██╗██╔══██║\n",
            "        ██║ ╚═╝ ██║██║  ██║██║ ╚═╝ ██║██████╔╝██║  ██║\n",
            "        ╚═╝     ╚═╝╚═╝  ╚═╝╚═╝     ╚═╝╚═════╝ ╚═╝  ╚═╝\n",
            "\n",
            "        mamba (1.0.0) supported by @QuantStack\n",
            "\n",
            "        GitHub:  https://github.com/mamba-org/mamba\n",
            "        Twitter: https://twitter.com/QuantStack\n",
            "\n",
            "█████████████████████████████████████████████████████████████\n",
            "\n",
            "  Package              Version  Build                Channel                   Size\n",
            "─────────────────────────────────────────────────────────────────────────────────────\n",
            "  Install:\n",
            "─────────────────────────────────────────────────────────────────────────────────────\n",
            "\n",
            "\u001b[32m  + cudatoolkit    \u001b[00m     11.2.2  hbe64b41_11          conda-forge/linux-64     588MB\n",
            "\u001b[32m  + fftw           \u001b[00m     3.3.10  nompi_hf0379b8_106   conda-forge/linux-64       2MB\n",
            "\u001b[32m  + libblas        \u001b[00m      3.9.0  16_linux64_openblas  conda-forge/linux-64      13kB\n",
            "\u001b[32m  + libcblas       \u001b[00m      3.9.0  16_linux64_openblas  conda-forge/linux-64      13kB\n",
            "\u001b[32m  + libgfortran-ng \u001b[00m     12.2.0  h69a702a_19          conda-forge/linux-64      23kB\n",
            "\u001b[32m  + libgfortran5   \u001b[00m     12.2.0  h337968e_19          conda-forge/linux-64       2MB\n",
            "\u001b[32m  + liblapack      \u001b[00m      3.9.0  16_linux64_openblas  conda-forge/linux-64      13kB\n",
            "\u001b[32m  + libopenblas    \u001b[00m     0.3.21  pthreads_h78a6416_3  conda-forge/linux-64      11MB\n",
            "\u001b[32m  + numpy          \u001b[00m     1.24.1  py38hab0fcb9_0       conda-forge/linux-64       7MB\n",
            "\u001b[32m  + ocl-icd        \u001b[00m      2.3.1  h7f98852_0           conda-forge/linux-64     121kB\n",
            "\u001b[32m  + ocl-icd-system \u001b[00m      1.0.0  1                    conda-forge/linux-64       4kB\n",
            "\u001b[32m  + openmm         \u001b[00m      7.7.0  py38h4b4c9af_1       conda-forge/linux-64      12MB\n",
            "\n",
            "  Upgrade:\n",
            "─────────────────────────────────────────────────────────────────────────────────────\n",
            "\n",
            "\u001b[31m  - ca-certificates\u001b[00m  2022.9.24  ha878542_0           conda-forge                   \n",
            "\u001b[32m  + ca-certificates\u001b[00m  2022.12.7  ha878542_0           conda-forge/linux-64     146kB\n",
            "\u001b[31m  - certifi        \u001b[00m  2022.9.24  pyhd8ed1ab_0         conda-forge                   \n",
            "\u001b[32m  + certifi        \u001b[00m  2022.12.7  pyhd8ed1ab_0         conda-forge/noarch       151kB\n",
            "\n",
            "  Summary:\n",
            "\n",
            "  Install: 12 packages\n",
            "  Upgrade: 2 packages\n",
            "\n",
            "  Total download: 621MB\n",
            "\n",
            "─────────────────────────────────────────────────────────────────────────────────────\n",
            "\n",
            "Preparing transaction: ...working... done\n",
            "Verifying transaction: ...working... done\n",
            "Executing transaction: ...working... By downloading and using the CUDA Toolkit conda packages, you accept the terms and conditions of the CUDA End User License Agreement (EULA): https://docs.nvidia.com/cuda/eula/index.html\n",
            "\n",
            "done\n"
          ]
        }
      ],
      "source": [
        "!mamba install -q openmm"
      ]
    },
    {
      "cell_type": "code",
      "execution_count": 3,
      "metadata": {
        "colab": {
          "base_uri": "https://localhost:8080/"
        },
        "id": "XjoqSLhMkCnK",
        "outputId": "5d15694e-c782-470d-937b-1e23b550df90"
      },
      "outputs": [
        {
          "name": "stdout",
          "output_type": "stream",
          "text": [
            "\n",
            "                  __    __    __    __\n",
            "                 /  \\  /  \\  /  \\  /  \\\n",
            "                /    \\/    \\/    \\/    \\\n",
            "███████████████/  /██/  /██/  /██/  /████████████████████████\n",
            "              /  / \\   / \\   / \\   / \\  \\____\n",
            "             /  /   \\_/   \\_/   \\_/   \\    o \\__,\n",
            "            / _/                       \\_____/  `\n",
            "            |/\n",
            "        ███╗   ███╗ █████╗ ███╗   ███╗██████╗  █████╗\n",
            "        ████╗ ████║██╔══██╗████╗ ████║██╔══██╗██╔══██╗\n",
            "        ██╔████╔██║███████║██╔████╔██║██████╔╝███████║\n",
            "        ██║╚██╔╝██║██╔══██║██║╚██╔╝██║██╔══██╗██╔══██║\n",
            "        ██║ ╚═╝ ██║██║  ██║██║ ╚═╝ ██║██████╔╝██║  ██║\n",
            "        ╚═╝     ╚═╝╚═╝  ╚═╝╚═╝     ╚═╝╚═════╝ ╚═╝  ╚═╝\n",
            "\n",
            "        mamba (1.0.0) supported by @QuantStack\n",
            "\n",
            "        GitHub:  https://github.com/mamba-org/mamba\n",
            "        Twitter: https://twitter.com/QuantStack\n",
            "\n",
            "█████████████████████████████████████████████████████████████\n",
            "\n",
            "\n",
            "Looking for: ['pdbfixer']\n",
            "\n",
            "conda-forge/linux-64                                        Using cache\n",
            "conda-forge/noarch                                          Using cache\n",
            "\n",
            "Pinned packages:\n",
            "  - python 3.8.*\n",
            "  - python 3.8.*\n",
            "  - python_abi 3.8.* *cp38*\n",
            "  - cudatoolkit 11.2.*\n",
            "\n",
            "\n",
            "Transaction\n",
            "\n",
            "  Prefix: /usr/local\n",
            "\n",
            "  Updating specs:\n",
            "\n",
            "   - pdbfixer\n",
            "   - ca-certificates\n",
            "   - certifi\n",
            "   - openssl\n",
            "\n",
            "\n",
            "  Package     Version  Build         Channel                 Size\n",
            "───────────────────────────────────────────────────────────────────\n",
            "  Install:\n",
            "───────────────────────────────────────────────────────────────────\n",
            "\n",
            "\u001b[32m  + pdbfixer\u001b[00m    1.8.1  pyh6c4a22f_0  conda-forge/noarch     510kB\n",
            "\n",
            "  Summary:\n",
            "\n",
            "  Install: 1 packages\n",
            "\n",
            "  Total download: 510kB\n",
            "\n",
            "───────────────────────────────────────────────────────────────────\n",
            "\n",
            "\u001b[?25l\u001b[2K\u001b[0G[+] 0.0s\n",
            "Downloading        0%\n",
            "Extracting         0%\u001b[2K\u001b[1A\u001b[2K\u001b[1A\u001b[2K\u001b[0G[+] 0.1s\n",
            "Downloading  (1)   0%\n",
            "Extracting         0%\u001b[2K\u001b[1A\u001b[2K\u001b[1A\u001b[2K\u001b[0G[+] 0.2s\n",
            "Downloading  (1)   0%\n",
            "Extracting         0%\u001b[2K\u001b[1A\u001b[2K\u001b[1A\u001b[2K\u001b[0Gpdbfixer                                           510.4kB @   2.4MB/s  0.2s\n",
            "[+] 0.3s\n",
            "Downloading      100%\n",
            "Extracting   (1)  ⣾  \u001b[2K\u001b[1A\u001b[2K\u001b[1A\u001b[2K\u001b[0G[+] 0.4s\n",
            "Downloading      100%\n",
            "Extracting   (1)  ⣾  \u001b[2K\u001b[1A\u001b[2K\u001b[1A\u001b[2K\u001b[0G[+] 0.5s\n",
            "Downloading      100%\n",
            "Extracting       100%\u001b[2K\u001b[1A\u001b[2K\u001b[1A\u001b[2K\u001b[0G\u001b[?25hPreparing transaction: - \b\bdone\n",
            "Verifying transaction: | \b\bdone\n",
            "Executing transaction: - \b\b\\ \b\b| \b\b/ \b\b- \b\b\\ \b\b| \b\b/ \b\b- \b\bdone\n"
          ]
        }
      ],
      "source": [
        "!mamba install -c conda-forge pdbfixer"
      ]
    },
    {
      "cell_type": "code",
      "execution_count": 4,
      "metadata": {
        "colab": {
          "base_uri": "https://localhost:8080/"
        },
        "id": "p6P-VjOQk9g0",
        "outputId": "10cbe2ed-104b-4ee2-9a29-a874b1959605"
      },
      "outputs": [
        {
          "name": "stdout",
          "output_type": "stream",
          "text": [
            "\n",
            "OpenMM Version: 7.7\n",
            "Git Revision: 130124a3f9277b054ec40927360a6ad20c8f5fa6\n",
            "\n",
            "There are 4 Platforms available:\n",
            "\n",
            "1 Reference - Successfully computed forces\n",
            "2 CPU - Successfully computed forces\n",
            "3 CUDA - Successfully computed forces\n",
            "4 OpenCL - Successfully computed forces\n",
            "\n",
            "Median difference in forces between platforms:\n",
            "\n",
            "Reference vs. CPU: 6.30202e-06\n",
            "Reference vs. CUDA: 6.73411e-06\n",
            "CPU vs. CUDA: 7.44584e-07\n",
            "Reference vs. OpenCL: 6.76294e-06\n",
            "CPU vs. OpenCL: 8.09318e-07\n",
            "CUDA vs. OpenCL: 2.64451e-07\n",
            "\n",
            "All differences are within tolerance.\n"
          ]
        }
      ],
      "source": [
        "from openmm.testInstallation import main \n",
        "main()"
      ]
    },
    {
      "cell_type": "code",
      "execution_count": 1,
      "metadata": {
        "id": "PPo-5-eOjJB5"
      },
      "outputs": [],
      "source": [
        "import time\n",
        "import numpy as np\n",
        "from openmm import app\n",
        "import openmm as mm\n",
        "from openmm import unit as u\n",
        "import pdbfixer\n",
        "from sys import stdout"
      ]
    },
    {
      "cell_type": "code",
      "execution_count": 7,
      "metadata": {
        "id": "hkXrZ0CVkAHA"
      },
      "outputs": [],
      "source": [
        "STRIDE = 1000\n",
        "simulations_steps = 6000000\n",
        "temperature = 300 * u.kelvin\n",
        "platform_name = 'CPU' \n",
        "real_time_STRIDE = 100000\n",
        "friction_coeff = 1.0/u.picoseconds\n",
        "time_step = 2.0*u.femtoseconds \n",
        "pressure = 1 * u.bar"
      ]
    },
    {
      "cell_type": "code",
      "execution_count": 5,
      "metadata": {
        "id": "Dd-xogWPkgbp"
      },
      "outputs": [],
      "source": [
        "# Loading the file into the notebook.\n",
        "pdb_file = './peptide_model_water.pdb'\n",
        "fixer = pdbfixer.PDBFixer(pdb_file)"
      ]
    },
    {
      "cell_type": "code",
      "execution_count": 8,
      "metadata": {
        "colab": {
          "base_uri": "https://localhost:8080/"
        },
        "id": "8kLPFdU0kwpJ",
        "outputId": "b81700f4-8eb1-4f96-b917-554d43aac57a"
      },
      "outputs": [],
      "source": [
        "# Defining the forcfield and the model\n",
        "forcefield = app.ForceField('amber14-all.xml', 'amber14/tip3pfb.xml')\n",
        "model = app.Modeller(fixer.topology, fixer.positions)\n",
        "model.addSolvent(forcefield,\n",
        "             padding=1.*u.nanometer,\n",
        "             #boxSize=mm.Vec3(3.0, 3.0, 3.0) * u.nanometers ,\n",
        "             model='tip3p', \n",
        "             ionicStrength=0.1 * u.millimolar, \n",
        "             positiveIon='Na+',\n",
        "             negativeIon='Cl-',\n",
        "             neutralize=True )\n",
        "\n",
        "app.PDBFile.writeFile(model.topology,model.positions, open('peptide_model_water.pdb', 'w'))###add\n",
        "\n",
        "system = forcefield.createSystem(model.topology, \n",
        "                                 nonbondedMethod=app.PME, \n",
        "                                 nonbondedCutoff=1.2*u.nanometers, #we did 1.0\n",
        "                                 constraints=app.HBonds, \n",
        "                                 rigidWater=True, \n",
        "                                 ewaldErrorTolerance=0.0005)\n",
        "\n",
        "system.addForce(mm.MonteCarloBarostat(pressure, temperature))###add\n",
        "\n",
        "integrator = mm.LangevinIntegrator(temperature,\n",
        "                                   friction_coeff,\n",
        "                                   time_step)\n",
        "integrator.setConstraintTolerance(0.00001)\n",
        "\n",
        "platform = mm.Platform.getPlatformByName(platform_name)\n",
        "simulation = app.Simulation(model.topology, system, integrator, platform)\n",
        "simulation.context.setPositions(model.positions)\n",
        "simulation.context.getState(getVelocities=True, getForces=True).getForces(asNumpy=True)\n",
        "\n",
        "#start = time.time()###delete\n",
        "#simulation.reporters.append(mm.app.pdbreporter.PDBReporter('data/output.pdb', STRIDE))###delete\n",
        "simulation.reporters.append(mm.app.dcdreporter.DCDReporter('output.dcd', STRIDE))###add\n",
        "simulation.reporters.append(mm.app.statedatareporter.StateDataReporter('mm.log', STRIDE, step=True, potentialEnergy=True, temperature=True, time=True))\n",
        "simulation.reporters.append(mm.app.statedatareporter.StateDataReporter(stdout, real_time_STRIDE, step=True, potentialEnergy=True, temperature=True, speed=True, elapsedTime=True))\n",
        "simulation.minimizeEnergy()\n",
        "simulation.step(simulations_steps)\n",
        "#end = time.time()\n",
        "\n",
        "#print(f\"Elapsed real time: {end-start} s\")###delete\n",
        "#print(f'I could do {(60*60)/(end-start)*simulations_steps} simulation steps per hour with {simulations_steps/STRIDE} frames saved.')###delete"
      ]
    },
    {
      "cell_type": "code",
      "execution_count": null,
      "metadata": {
        "id": "A_epGdrrla8S"
      },
      "outputs": [],
      "source": []
    }
  ],
  "metadata": {
    "accelerator": "GPU",
    "colab": {
      "provenance": []
    },
    "gpuClass": "standard",
    "kernelspec": {
      "display_name": "Python 3",
      "name": "python3"
    },
    "language_info": {
      "codemirror_mode": {
        "name": "ipython",
        "version": 3
      },
      "file_extension": ".py",
      "mimetype": "text/x-python",
      "name": "python",
      "nbconvert_exporter": "python",
      "pygments_lexer": "ipython3",
      "version": "3.9.15"
    }
  },
  "nbformat": 4,
  "nbformat_minor": 0
}
